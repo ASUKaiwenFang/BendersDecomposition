{
 "cells": [
  {
   "cell_type": "code",
   "execution_count": 5,
   "metadata": {},
   "outputs": [],
   "source": [
    "using JuMP, Gurobi"
   ]
  },
  {
   "cell_type": "code",
   "execution_count": 6,
   "metadata": {},
   "outputs": [
    {
     "data": {
      "text/plain": [
       "1×4 Matrix{Int64}:\n",
       " 3  2  3  2"
      ]
     },
     "metadata": {},
     "output_type": "display_data"
    }
   ],
   "source": [
    "# define the problem\n",
    "c = [1]\n",
    "d = [1, 1]\n",
    "A = [1; 1; 3; 2]\n",
    "B = [2 -1; 0 -1; -2 3; 1 -1]\n",
    "b = [3 2 3 2]"
   ]
  },
  {
   "cell_type": "code",
   "execution_count": 7,
   "metadata": {},
   "outputs": [
    {
     "data": {
      "text/plain": [
       "sub (generic function with 1 method)"
      ]
     },
     "metadata": {},
     "output_type": "display_data"
    }
   ],
   "source": [
    "function master(c)\n",
    "    m = Model(Gurobi.Optimizer)\n",
    "    num = length(c)\n",
    "    @variable(m, x[1:num] >= 0)\n",
    "    @variable(m, t >= 1e-06)\n",
    "    @objective(m, Min, c'x+t)\n",
    "    return m\n",
    "end\n",
    "\n",
    "function sub(d, A, B, b)\n",
    "    n = size(B, 2)\n",
    "    nx = size(A, 2)\n",
    "    m = Model(Gurobi.Optimizer)\n",
    "    @variable(m, y[1:n] >= 0)\n",
    "    @variable(m, x[1:nx])\n",
    "    @constraint(m, con[1:length(b)], A.*x + B*y .>= b)\n",
    "    @constraint(m, conx[1:nx], x==0)\n",
    "    @objective(m, Min, d'y)\n",
    "    return m\n",
    "end\n",
    "\n",
    "    "
   ]
  },
  {
   "cell_type": "code",
   "execution_count": 1,
   "metadata": {},
   "outputs": [
    {
     "data": {
      "text/plain": [
       "0.0"
      ]
     },
     "metadata": {},
     "output_type": "display_data"
    }
   ],
   "source": [
    "-8*0.8666666666666667+6.933333333333334"
   ]
  },
  {
   "cell_type": "code",
   "execution_count": 8,
   "metadata": {},
   "outputs": [
    {
     "name": "stdout",
     "output_type": "stream",
     "text": [
      "Set parameter Username\n",
      "Academic license - for non-commercial use only - expires 2025-01-07\n",
      "Set parameter Username\n",
      "Academic license - for non-commercial use only - expires 2025-01-07\n"
     ]
    },
    {
     "data": {
      "text/plain": [
       "A JuMP Model\n",
       "Minimization problem with:\n",
       "Variables: 3\n",
       "Objective function type: AffExpr\n",
       "`AffExpr`-in-`MathOptInterface.GreaterThan{Float64}`: 16 constraints\n",
       "`Vector{AffExpr}`-in-`MathOptInterface.Zeros`: 1 constraint\n",
       "`VariableRef`-in-`MathOptInterface.GreaterThan{Float64}`: 2 constraints\n",
       "Model mode: AUTOMATIC\n",
       "CachingOptimizer state: EMPTY_OPTIMIZER\n",
       "Solver name: Gurobi\n",
       "Names registered in the model: con, x, y"
      ]
     },
     "metadata": {},
     "output_type": "display_data"
    }
   ],
   "source": [
    "master_problem = master(c)\n",
    "sub_problem = sub(d, A, B, b)"
   ]
  }
 ],
 "metadata": {
  "kernelspec": {
   "display_name": "Julia 1.10.4",
   "language": "julia",
   "name": "julia-1.10"
  },
  "language_info": {
   "file_extension": ".jl",
   "mimetype": "application/julia",
   "name": "julia",
   "version": "1.10.4"
  }
 },
 "nbformat": 4,
 "nbformat_minor": 2
}
